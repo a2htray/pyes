{
 "metadata": {
  "language_info": {
   "codemirror_mode": {
    "name": "ipython",
    "version": 3
   },
   "file_extension": ".py",
   "mimetype": "text/x-python",
   "name": "python",
   "nbconvert_exporter": "python",
   "pygments_lexer": "ipython3",
   "version": "3.6.13"
  },
  "orig_nbformat": 4,
  "kernelspec": {
   "name": "python3",
   "display_name": "Python 3.6.13 64-bit ('pyes': conda)"
  },
  "interpreter": {
   "hash": "5febc64283966fe46fc465ad8ab242eb0484fa28506faf7951a93cb8efa4edfd"
  }
 },
 "nbformat": 4,
 "nbformat_minor": 2,
 "cells": [
  {
   "cell_type": "code",
   "execution_count": 1,
   "metadata": {},
   "outputs": [],
   "source": [
    "import warnings\n",
    "warnings.filterwarnings('ignore')\n",
    "import numpy as np\n",
    "import tensorflow as tf\n",
    "import threading\n",
    "from loguru import logger\n"
   ]
  },
  {
   "cell_type": "code",
   "execution_count": null,
   "metadata": {},
   "outputs": [],
   "source": [
    "lr = 0.02 # 学习率\n",
    "sigma = 0 # 噪声标准差 \n",
    "n_iter = 10 # 迭代的次数\n",
    "n_dimension = 2 # 向量的维度\n",
    "n_worker = 5\n",
    "mu = 12 # 个体数\n",
    "lam = 3 #\n",
    "\n",
    "n_children = int(mu / lam)\n",
    "\n",
    "for iter in range(n_iter):\n",
    "\n"
   ]
  }
 ]
}