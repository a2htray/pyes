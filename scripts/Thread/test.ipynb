{
 "metadata": {
  "language_info": {
   "codemirror_mode": {
    "name": "ipython",
    "version": 3
   },
   "file_extension": ".py",
   "mimetype": "text/x-python",
   "name": "python",
   "nbconvert_exporter": "python",
   "pygments_lexer": "ipython3",
   "version": "3.6.13"
  },
  "orig_nbformat": 4,
  "kernelspec": {
   "name": "python3",
   "display_name": "Python 3.6.13 64-bit ('pyes': conda)"
  },
  "interpreter": {
   "hash": "5febc64283966fe46fc465ad8ab242eb0484fa28506faf7951a93cb8efa4edfd"
  }
 },
 "nbformat": 4,
 "nbformat_minor": 2,
 "cells": [
  {
   "cell_type": "code",
   "execution_count": 1,
   "metadata": {},
   "outputs": [],
   "source": [
    "import random\n",
    "import threading"
   ]
  },
  {
   "cell_type": "code",
   "execution_count": 2,
   "metadata": {},
   "outputs": [],
   "source": [
    "def list_append(count, id, out_list):\n",
    "    for i in range(count):\n",
    "        out_list.append(random.random())"
   ]
  },
  {
   "cell_type": "code",
   "execution_count": 4,
   "metadata": {},
   "outputs": [
    {
     "output_type": "stream",
     "name": "stdout",
     "text": [
      "List processing complete.\n"
     ]
    }
   ],
   "source": [
    "size = 10000000   # Number of random numbers to add\n",
    "threads = 2   # Number of threads to create\n",
    "\n",
    "# Create a list of jobs and then iterate through\n",
    "# the number of threads appending each thread to\n",
    "# the job list \n",
    "jobs = []\n",
    "for i in range(0, threads):\n",
    "    out_list = list()\n",
    "    thread = threading.Thread(target=list_append(size, i, out_list))\n",
    "    jobs.append(thread)\n",
    "\n",
    "# Start the threads (i.e. calculate the random number lists)\n",
    "for j in jobs:\n",
    "    j.start()\n",
    "\n",
    "# Ensure all of the threads have finished\n",
    "for j in jobs:\n",
    "    j.join()\n",
    "\n",
    "print(\"List processing complete.\")"
   ]
  },
  {
   "cell_type": "code",
   "execution_count": null,
   "metadata": {},
   "outputs": [],
   "source": []
  }
 ]
}